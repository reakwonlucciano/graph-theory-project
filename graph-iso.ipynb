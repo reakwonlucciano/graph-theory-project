{
 "cells": [
  {
   "cell_type": "code",
   "execution_count": 2,
   "metadata": {},
   "outputs": [
    {
     "data": {
      "text/plain": [
       "7"
      ]
     },
     "execution_count": 2,
     "metadata": {},
     "output_type": "execute_result"
    }
   ],
   "source": [
    "a  = 3\n",
    "b = 4\n",
    "c = 5\n",
    "\n",
    "a + b"
   ]
  },
  {
   "attachments": {},
   "cell_type": "markdown",
   "metadata": {},
   "source": [
    "A = {1, 2, 3} "
   ]
  },
  {
   "attachments": {},
   "cell_type": "markdown",
   "metadata": {},
   "source": [
    "Author: Reakwon Lucciano G00382913"
   ]
  },
  {
   "attachments": {},
   "cell_type": "markdown",
   "metadata": {},
   "source": [
    "<h1>What is Graph Isomorphism?</h1>"
   ]
  },
  {
   "attachments": {},
   "cell_type": "markdown",
   "metadata": {},
   "source": [
    "Graph isomorphism is an equivalence relation on graphs and as such it partitions the class of all graphs into equivalence classes. A set of graphs isomorphic to each other is called an isomorphism class of graphs. "
   ]
  },
  {
   "attachments": {},
   "cell_type": "markdown",
   "metadata": {},
   "source": [
    "In graph theory, an isomorphism of graphs G and H is a bijection between the vertex sets of G and H\n",
    "\n",
    "Graph: A graph (denoted as G= (V, E) consists of a non-empty set of vertices or nodes V and a set of edges E.\n",
    "\n",
    "Vertex: A vertex (or node) of a graph is one of the objects that are connected together. The connections between the vertices are called edges or links. \n",
    "\n",
    "Edges: An edge (or link) of a network (or graph) is one of the connections between the nodes (or vertices) of the network. \n",
    "\n"
   ]
  }
 ],
 "metadata": {
  "kernelspec": {
   "display_name": "base",
   "language": "python",
   "name": "python3"
  },
  "language_info": {
   "codemirror_mode": {
    "name": "ipython",
    "version": 3
   },
   "file_extension": ".py",
   "mimetype": "text/x-python",
   "name": "python",
   "nbconvert_exporter": "python",
   "pygments_lexer": "ipython3",
   "version": "3.9.13"
  },
  "orig_nbformat": 4,
  "vscode": {
   "interpreter": {
    "hash": "0132f11e83f4ed9d0c51e2ae2efd8d3759780882e671cc8ff098e5d953013d9e"
   }
  }
 },
 "nbformat": 4,
 "nbformat_minor": 2
}
